{
 "cells": [
  {
   "cell_type": "markdown",
   "id": "e24bb75c-dcf3-49fd-82f6-1665d4db569d",
   "metadata": {},
   "source": [
    "## Fish Weight Prediction using Polynomial Linear Regression"
   ]
  },
  {
   "cell_type": "markdown",
   "id": "299c9c3c-404f-4b58-b487-00295db2f501",
   "metadata": {},
   "source": [
    "## Loading the dataset"
   ]
  },
  {
   "cell_type": "code",
   "execution_count": 35,
   "id": "1775393b-f6e9-4f64-923b-21b787a00df5",
   "metadata": {
    "tags": []
   },
   "outputs": [
    {
     "name": "stdout",
     "output_type": "stream",
     "text": [
      "  Species  Weight  Length1  Length2  Length3   Height   Width\n",
      "0   Bream   242.0     23.2     25.4     30.0  11.5200  4.0200\n",
      "1   Bream   290.0     24.0     26.3     31.2  12.4800  4.3056\n",
      "2   Bream   340.0     23.9     26.5     31.1  12.3778  4.6961\n",
      "3   Bream   363.0     26.3     29.0     33.5  12.7300  4.4555\n",
      "4   Bream   430.0     26.5     29.0     34.0  12.4440  5.1340\n"
     ]
    }
   ],
   "source": [
    "import pandas as pd\n",
    "\n",
    "url = \"https://raw.githubusercontent.com/satishgunjal/datasets/master/Fish.csv\"\n",
    "\n",
    "fish_data = pd.read_csv(url)\n",
    "fish_data.to_csv('Fish.csv', index =False)\n",
    "print(fish_data.head())\n"
   ]
  },
  {
   "cell_type": "markdown",
   "id": "9bd52a1e-ff78-41a7-a2b2-26d807e5f193",
   "metadata": {},
   "source": [
    "## The dataset description"
   ]
  },
  {
   "cell_type": "markdown",
   "id": "f12fdd97-697d-4b28-8988-5c79e2ea3080",
   "metadata": {},
   "source": [
    "This dataset contains various measurements of fish belonging to different species. The data can be used for regression tasks, such as predicting the weight of a fish based on its dimensions. Here are the details of the columns present in the dataset:\n",
    "\n",
    "    Species: The type of fish (e.g., Bream, Roach, Perch, etc.).\n",
    "    Weight: The weight of the fish in grams.\n",
    "    Length1: Vertical length in cm.\n",
    "    Length2: Diagonal length in cm.\n",
    "    Length3: Cross length in cm.\n",
    "    Height: The height of the fish in cm.\n",
    "    Width: The diagonal width of the fish in cm."
   ]
  },
  {
   "cell_type": "code",
   "execution_count": 36,
   "id": "98a112a1-ebab-4a5f-8837-a8a000baff18",
   "metadata": {
    "tags": []
   },
   "outputs": [
    {
     "data": {
      "text/html": [
       "<div>\n",
       "<style scoped>\n",
       "    .dataframe tbody tr th:only-of-type {\n",
       "        vertical-align: middle;\n",
       "    }\n",
       "\n",
       "    .dataframe tbody tr th {\n",
       "        vertical-align: top;\n",
       "    }\n",
       "\n",
       "    .dataframe thead th {\n",
       "        text-align: right;\n",
       "    }\n",
       "</style>\n",
       "<table border=\"1\" class=\"dataframe\">\n",
       "  <thead>\n",
       "    <tr style=\"text-align: right;\">\n",
       "      <th></th>\n",
       "      <th>Species</th>\n",
       "      <th>Weight</th>\n",
       "      <th>Length1</th>\n",
       "      <th>Length2</th>\n",
       "      <th>Length3</th>\n",
       "      <th>Height</th>\n",
       "      <th>Width</th>\n",
       "    </tr>\n",
       "  </thead>\n",
       "  <tbody>\n",
       "    <tr>\n",
       "      <th>0</th>\n",
       "      <td>Bream</td>\n",
       "      <td>242.0</td>\n",
       "      <td>23.2</td>\n",
       "      <td>25.4</td>\n",
       "      <td>30.0</td>\n",
       "      <td>11.5200</td>\n",
       "      <td>4.0200</td>\n",
       "    </tr>\n",
       "    <tr>\n",
       "      <th>1</th>\n",
       "      <td>Bream</td>\n",
       "      <td>290.0</td>\n",
       "      <td>24.0</td>\n",
       "      <td>26.3</td>\n",
       "      <td>31.2</td>\n",
       "      <td>12.4800</td>\n",
       "      <td>4.3056</td>\n",
       "    </tr>\n",
       "    <tr>\n",
       "      <th>2</th>\n",
       "      <td>Bream</td>\n",
       "      <td>340.0</td>\n",
       "      <td>23.9</td>\n",
       "      <td>26.5</td>\n",
       "      <td>31.1</td>\n",
       "      <td>12.3778</td>\n",
       "      <td>4.6961</td>\n",
       "    </tr>\n",
       "    <tr>\n",
       "      <th>3</th>\n",
       "      <td>Bream</td>\n",
       "      <td>363.0</td>\n",
       "      <td>26.3</td>\n",
       "      <td>29.0</td>\n",
       "      <td>33.5</td>\n",
       "      <td>12.7300</td>\n",
       "      <td>4.4555</td>\n",
       "    </tr>\n",
       "    <tr>\n",
       "      <th>4</th>\n",
       "      <td>Bream</td>\n",
       "      <td>430.0</td>\n",
       "      <td>26.5</td>\n",
       "      <td>29.0</td>\n",
       "      <td>34.0</td>\n",
       "      <td>12.4440</td>\n",
       "      <td>5.1340</td>\n",
       "    </tr>\n",
       "    <tr>\n",
       "      <th>...</th>\n",
       "      <td>...</td>\n",
       "      <td>...</td>\n",
       "      <td>...</td>\n",
       "      <td>...</td>\n",
       "      <td>...</td>\n",
       "      <td>...</td>\n",
       "      <td>...</td>\n",
       "    </tr>\n",
       "    <tr>\n",
       "      <th>154</th>\n",
       "      <td>Smelt</td>\n",
       "      <td>12.2</td>\n",
       "      <td>11.5</td>\n",
       "      <td>12.2</td>\n",
       "      <td>13.4</td>\n",
       "      <td>2.0904</td>\n",
       "      <td>1.3936</td>\n",
       "    </tr>\n",
       "    <tr>\n",
       "      <th>155</th>\n",
       "      <td>Smelt</td>\n",
       "      <td>13.4</td>\n",
       "      <td>11.7</td>\n",
       "      <td>12.4</td>\n",
       "      <td>13.5</td>\n",
       "      <td>2.4300</td>\n",
       "      <td>1.2690</td>\n",
       "    </tr>\n",
       "    <tr>\n",
       "      <th>156</th>\n",
       "      <td>Smelt</td>\n",
       "      <td>12.2</td>\n",
       "      <td>12.1</td>\n",
       "      <td>13.0</td>\n",
       "      <td>13.8</td>\n",
       "      <td>2.2770</td>\n",
       "      <td>1.2558</td>\n",
       "    </tr>\n",
       "    <tr>\n",
       "      <th>157</th>\n",
       "      <td>Smelt</td>\n",
       "      <td>19.7</td>\n",
       "      <td>13.2</td>\n",
       "      <td>14.3</td>\n",
       "      <td>15.2</td>\n",
       "      <td>2.8728</td>\n",
       "      <td>2.0672</td>\n",
       "    </tr>\n",
       "    <tr>\n",
       "      <th>158</th>\n",
       "      <td>Smelt</td>\n",
       "      <td>19.9</td>\n",
       "      <td>13.8</td>\n",
       "      <td>15.0</td>\n",
       "      <td>16.2</td>\n",
       "      <td>2.9322</td>\n",
       "      <td>1.8792</td>\n",
       "    </tr>\n",
       "  </tbody>\n",
       "</table>\n",
       "<p>159 rows × 7 columns</p>\n",
       "</div>"
      ],
      "text/plain": [
       "    Species  Weight  Length1  Length2  Length3   Height   Width\n",
       "0     Bream   242.0     23.2     25.4     30.0  11.5200  4.0200\n",
       "1     Bream   290.0     24.0     26.3     31.2  12.4800  4.3056\n",
       "2     Bream   340.0     23.9     26.5     31.1  12.3778  4.6961\n",
       "3     Bream   363.0     26.3     29.0     33.5  12.7300  4.4555\n",
       "4     Bream   430.0     26.5     29.0     34.0  12.4440  5.1340\n",
       "..      ...     ...      ...      ...      ...      ...     ...\n",
       "154   Smelt    12.2     11.5     12.2     13.4   2.0904  1.3936\n",
       "155   Smelt    13.4     11.7     12.4     13.5   2.4300  1.2690\n",
       "156   Smelt    12.2     12.1     13.0     13.8   2.2770  1.2558\n",
       "157   Smelt    19.7     13.2     14.3     15.2   2.8728  2.0672\n",
       "158   Smelt    19.9     13.8     15.0     16.2   2.9322  1.8792\n",
       "\n",
       "[159 rows x 7 columns]"
      ]
     },
     "execution_count": 36,
     "metadata": {},
     "output_type": "execute_result"
    }
   ],
   "source": [
    "fish_data"
   ]
  },
  {
   "cell_type": "markdown",
   "id": "70dac259-8926-42ee-ab0e-1c8df13c0784",
   "metadata": {},
   "source": [
    "## Independent and Target Variable"
   ]
  },
  {
   "cell_type": "markdown",
   "id": "6a852b43-c78e-482f-82e9-84257353a93f",
   "metadata": {},
   "source": [
    "The final target variable is weight here and we are going to predict the weight of the fish using polynomial linear regression which has the equation (one when independent variable)\n",
    "$$ y = \\beta_0 + \\beta_1 X + \\beta_2 X^2 + \\beta_3 X^3 + \\cdots + \\beta_n X^n $$\n"
   ]
  },
  {
   "cell_type": "markdown",
   "id": "07812740-cf8f-4600-ba98-94827b555e8c",
   "metadata": {},
   "source": [
    "## Visualising the relationship between different dependent and independent variables using simple scatter plots"
   ]
  },
  {
   "cell_type": "code",
   "execution_count": 37,
   "id": "095fa394-194c-43d9-9db1-efda866cd060",
   "metadata": {
    "tags": []
   },
   "outputs": [
    {
     "data": {
      "image/png": "[encoded data removed]",
      "text/plain": [
       "<Figure size 800x600 with 1 Axes>"
      ]
     },
     "metadata": {},
     "output_type": "display_data"
    }
   ],
   "source": [
    "import pandas as pd\n",
    "import matplotlib.pyplot as plt\n",
    "\n",
    "# Load your dataset\n",
    "data = pd.read_csv('Fish.csv')\n",
    "\n",
    "# Define the dependent and independent variables\n",
    "independent_var = 'Height'  # Replace with your independent variable\n",
    "dependent_var = 'Weight'  # Replace with your dependent variable\n",
    "\n",
    "# Create the scatter plot\n",
    "plt.figure(figsize=(8, 6))\n",
    "plt.scatter(data[independent_var], data[dependent_var], alpha=0.5)\n",
    "plt.title(f'Scatter Plot of {independent_var} vs {dependent_var}')\n",
    "plt.xlabel(independent_var)\n",
    "plt.ylabel(dependent_var)\n",
    "plt.grid(True)\n",
    "plt.show()\n"
   ]
  },
  {
   "cell_type": "code",
   "execution_count": 40,
   "id": "5839820a-6cfb-4745-9c38-b1e0c04ff937",
   "metadata": {
    "tags": []
   },
   "outputs": [
    {
     "name": "stderr",
     "output_type": "stream",
     "text": [
      "/home/jupyter/.local/lib/python3.8/site-packages/seaborn/axisgrid.py:118: UserWarning: The figure layout has changed to tight\n",
      "  self._figure.tight_layout(*args, **kwargs)\n"
     ]
    },
    {
     "data": {
      "image/png": "[encoded data removed]",
      "text/plain": [
       "<Figure size 1000x1000 with 20 Axes>"
      ]
     },
     "metadata": {},
     "output_type": "display_data"
    }
   ],
   "source": [
    "import pandas as pd\n",
    "import seaborn as sns\n",
    "import matplotlib.pyplot as plt\n",
    "\n",
    "# Load your dataset\n",
    "\n",
    "# Define the dependent variable and independent variables\n",
    "dependent_var = 'Weight'  # Replace with your dependent variable\n",
    "independent_vars = ['Length1', 'Length2', 'Length3']  # Replace with your independent variables\n",
    "\n",
    "# Select the relevant columns for the pair plot\n",
    "selected_columns = independent_vars + [dependent_var]\n",
    "\n",
    "# Create the pair plot\n",
    "sns.pairplot(data[selected_columns])\n",
    "\n",
    "# Show the plot\n",
    "plt.show()\n"
   ]
  },
  {
   "cell_type": "markdown",
   "id": "781ffc42-3602-41f3-88f1-7dfca8f8b605",
   "metadata": {},
   "source": [
    "## Checking Correlations between the independent variables themselves"
   ]
  },
  {
   "cell_type": "code",
   "execution_count": 43,
   "id": "931896e7-d632-4962-9974-d2023188d407",
   "metadata": {
    "tags": []
   },
   "outputs": [
    {
     "name": "stdout",
     "output_type": "stream",
     "text": [
      "          Length1   Length2   Length3     Width\n",
      "Length1  1.000000  0.999517  0.992031  0.867050\n",
      "Length2  0.999517  1.000000  0.994103  0.873547\n",
      "Length3  0.992031  0.994103  1.000000  0.878520\n",
      "Width    0.867050  0.873547  0.878520  1.000000\n"
     ]
    }
   ],
   "source": [
    "import pandas as pd\n",
    "\n",
    "# Load your dataset\n",
    "\n",
    "# Select only the independent variables\n",
    "independent_vars = ['Length1', 'Length2', 'Length3', 'Width',]  # Replace with your feature names\n",
    "\n",
    "# Calculate the correlation matrix\n",
    "correlation_matrix = data[independent_vars].corr()\n",
    "\n",
    "# Display the correlation matrix\n",
    "print(correlation_matrix)\n"
   ]
  },
  {
   "cell_type": "markdown",
   "id": "e9b5d974-8405-448a-b8ee-6d180d7f22d4",
   "metadata": {},
   "source": [
    "## Checking correlations of the Independent variables against the Dependent variables"
   ]
  },
  {
   "cell_type": "code",
   "execution_count": 44,
   "id": "8b2a7cf0-2e23-40bc-8914-b1d08156243b",
   "metadata": {
    "tags": []
   },
   "outputs": [
    {
     "name": "stdout",
     "output_type": "stream",
     "text": [
      "Length1    0.915712\n",
      "Length2    0.918618\n",
      "Length3    0.923044\n",
      "Width      0.886507\n",
      "Height     0.724345\n",
      "Name: Weight, dtype: float64\n"
     ]
    }
   ],
   "source": [
    "import pandas as pd\n",
    "\n",
    "dependent_var = 'Weight'  # Replace with your dependent variable\n",
    "independent_vars = ['Length1', 'Length2', 'Length3', 'Width','Height']  # Replace with your independent variables\n",
    "\n",
    "correlations_with_target = data[independent_vars + [dependent_var]].corr()[dependent_var].drop(dependent_var)\n",
    "\n",
    "print(correlations_with_target)\n"
   ]
  },
  {
   "cell_type": "markdown",
   "id": "f8d0ca47-bef5-4ded-8e20-c811887a979e",
   "metadata": {},
   "source": [
    "## Preprocessing the dataset"
   ]
  },
  {
   "cell_type": "markdown",
   "id": "c43dcd5f-3aa3-4c39-8af0-18264c4e81b4",
   "metadata": {},
   "source": [
    "Bringing the target variable at the end of the dataset for ease"
   ]
  },
  {
   "cell_type": "code",
   "execution_count": 45,
   "id": "86534383-9b53-4ade-919c-db7713866483",
   "metadata": {
    "tags": []
   },
   "outputs": [],
   "source": [
    "dataset= fish_data"
   ]
  },
  {
   "cell_type": "code",
   "execution_count": 46,
   "id": "a8f56b85-650b-41ee-bd44-28400b0c5612",
   "metadata": {
    "tags": []
   },
   "outputs": [
    {
     "data": {
      "text/html": [
       "<div>\n",
       "<style scoped>\n",
       "    .dataframe tbody tr th:only-of-type {\n",
       "        vertical-align: middle;\n",
       "    }\n",
       "\n",
       "    .dataframe tbody tr th {\n",
       "        vertical-align: top;\n",
       "    }\n",
       "\n",
       "    .dataframe thead th {\n",
       "        text-align: right;\n",
       "    }\n",
       "</style>\n",
       "<table border=\"1\" class=\"dataframe\">\n",
       "  <thead>\n",
       "    <tr style=\"text-align: right;\">\n",
       "      <th></th>\n",
       "      <th>Species</th>\n",
       "      <th>Weight</th>\n",
       "      <th>Length1</th>\n",
       "      <th>Length2</th>\n",
       "      <th>Length3</th>\n",
       "      <th>Height</th>\n",
       "      <th>Width</th>\n",
       "    </tr>\n",
       "  </thead>\n",
       "  <tbody>\n",
       "    <tr>\n",
       "      <th>0</th>\n",
       "      <td>Bream</td>\n",
       "      <td>242.0</td>\n",
       "      <td>23.2</td>\n",
       "      <td>25.4</td>\n",
       "      <td>30.0</td>\n",
       "      <td>11.5200</td>\n",
       "      <td>4.0200</td>\n",
       "    </tr>\n",
       "    <tr>\n",
       "      <th>1</th>\n",
       "      <td>Bream</td>\n",
       "      <td>290.0</td>\n",
       "      <td>24.0</td>\n",
       "      <td>26.3</td>\n",
       "      <td>31.2</td>\n",
       "      <td>12.4800</td>\n",
       "      <td>4.3056</td>\n",
       "    </tr>\n",
       "    <tr>\n",
       "      <th>2</th>\n",
       "      <td>Bream</td>\n",
       "      <td>340.0</td>\n",
       "      <td>23.9</td>\n",
       "      <td>26.5</td>\n",
       "      <td>31.1</td>\n",
       "      <td>12.3778</td>\n",
       "      <td>4.6961</td>\n",
       "    </tr>\n",
       "    <tr>\n",
       "      <th>3</th>\n",
       "      <td>Bream</td>\n",
       "      <td>363.0</td>\n",
       "      <td>26.3</td>\n",
       "      <td>29.0</td>\n",
       "      <td>33.5</td>\n",
       "      <td>12.7300</td>\n",
       "      <td>4.4555</td>\n",
       "    </tr>\n",
       "    <tr>\n",
       "      <th>4</th>\n",
       "      <td>Bream</td>\n",
       "      <td>430.0</td>\n",
       "      <td>26.5</td>\n",
       "      <td>29.0</td>\n",
       "      <td>34.0</td>\n",
       "      <td>12.4440</td>\n",
       "      <td>5.1340</td>\n",
       "    </tr>\n",
       "    <tr>\n",
       "      <th>...</th>\n",
       "      <td>...</td>\n",
       "      <td>...</td>\n",
       "      <td>...</td>\n",
       "      <td>...</td>\n",
       "      <td>...</td>\n",
       "      <td>...</td>\n",
       "      <td>...</td>\n",
       "    </tr>\n",
       "    <tr>\n",
       "      <th>154</th>\n",
       "      <td>Smelt</td>\n",
       "      <td>12.2</td>\n",
       "      <td>11.5</td>\n",
       "      <td>12.2</td>\n",
       "      <td>13.4</td>\n",
       "      <td>2.0904</td>\n",
       "      <td>1.3936</td>\n",
       "    </tr>\n",
       "    <tr>\n",
       "      <th>155</th>\n",
       "      <td>Smelt</td>\n",
       "      <td>13.4</td>\n",
       "      <td>11.7</td>\n",
       "      <td>12.4</td>\n",
       "      <td>13.5</td>\n",
       "      <td>2.4300</td>\n",
       "      <td>1.2690</td>\n",
       "    </tr>\n",
       "    <tr>\n",
       "      <th>156</th>\n",
       "      <td>Smelt</td>\n",
       "      <td>12.2</td>\n",
       "      <td>12.1</td>\n",
       "      <td>13.0</td>\n",
       "      <td>13.8</td>\n",
       "      <td>2.2770</td>\n",
       "      <td>1.2558</td>\n",
       "    </tr>\n",
       "    <tr>\n",
       "      <th>157</th>\n",
       "      <td>Smelt</td>\n",
       "      <td>19.7</td>\n",
       "      <td>13.2</td>\n",
       "      <td>14.3</td>\n",
       "      <td>15.2</td>\n",
       "      <td>2.8728</td>\n",
       "      <td>2.0672</td>\n",
       "    </tr>\n",
       "    <tr>\n",
       "      <th>158</th>\n",
       "      <td>Smelt</td>\n",
       "      <td>19.9</td>\n",
       "      <td>13.8</td>\n",
       "      <td>15.0</td>\n",
       "      <td>16.2</td>\n",
       "      <td>2.9322</td>\n",
       "      <td>1.8792</td>\n",
       "    </tr>\n",
       "  </tbody>\n",
       "</table>\n",
       "<p>159 rows × 7 columns</p>\n",
       "</div>"
      ],
      "text/plain": [
       "    Species  Weight  Length1  Length2  Length3   Height   Width\n",
       "0     Bream   242.0     23.2     25.4     30.0  11.5200  4.0200\n",
       "1     Bream   290.0     24.0     26.3     31.2  12.4800  4.3056\n",
       "2     Bream   340.0     23.9     26.5     31.1  12.3778  4.6961\n",
       "3     Bream   363.0     26.3     29.0     33.5  12.7300  4.4555\n",
       "4     Bream   430.0     26.5     29.0     34.0  12.4440  5.1340\n",
       "..      ...     ...      ...      ...      ...      ...     ...\n",
       "154   Smelt    12.2     11.5     12.2     13.4   2.0904  1.3936\n",
       "155   Smelt    13.4     11.7     12.4     13.5   2.4300  1.2690\n",
       "156   Smelt    12.2     12.1     13.0     13.8   2.2770  1.2558\n",
       "157   Smelt    19.7     13.2     14.3     15.2   2.8728  2.0672\n",
       "158   Smelt    19.9     13.8     15.0     16.2   2.9322  1.8792\n",
       "\n",
       "[159 rows x 7 columns]"
      ]
     },
     "execution_count": 46,
     "metadata": {},
     "output_type": "execute_result"
    }
   ],
   "source": [
    "dataset"
   ]
  },
  {
   "cell_type": "code",
   "execution_count": 47,
   "id": "b231885a-fdcc-4236-b8cf-a13d97ec3906",
   "metadata": {
    "tags": []
   },
   "outputs": [
    {
     "data": {
      "text/plain": [
       "['Species', 'Length1', 'Length2', 'Length3', 'Height', 'Width', 'Weight']"
      ]
     },
     "execution_count": 47,
     "metadata": {},
     "output_type": "execute_result"
    }
   ],
   "source": [
    "cols= dataset.columns.tolist()\n",
    "cols.append(cols.pop(cols.index('Weight')))\n",
    "cols"
   ]
  },
  {
   "cell_type": "code",
   "execution_count": 48,
   "id": "510673e5-5435-4100-92bc-17076867ba1c",
   "metadata": {
    "tags": []
   },
   "outputs": [
    {
     "data": {
      "text/html": [
       "<div>\n",
       "<style scoped>\n",
       "    .dataframe tbody tr th:only-of-type {\n",
       "        vertical-align: middle;\n",
       "    }\n",
       "\n",
       "    .dataframe tbody tr th {\n",
       "        vertical-align: top;\n",
       "    }\n",
       "\n",
       "    .dataframe thead th {\n",
       "        text-align: right;\n",
       "    }\n",
       "</style>\n",
       "<table border=\"1\" class=\"dataframe\">\n",
       "  <thead>\n",
       "    <tr style=\"text-align: right;\">\n",
       "      <th></th>\n",
       "      <th>Species</th>\n",
       "      <th>Length1</th>\n",
       "      <th>Length2</th>\n",
       "      <th>Length3</th>\n",
       "      <th>Height</th>\n",
       "      <th>Width</th>\n",
       "      <th>Weight</th>\n",
       "    </tr>\n",
       "  </thead>\n",
       "  <tbody>\n",
       "    <tr>\n",
       "      <th>0</th>\n",
       "      <td>Bream</td>\n",
       "      <td>23.2</td>\n",
       "      <td>25.4</td>\n",
       "      <td>30.0</td>\n",
       "      <td>11.5200</td>\n",
       "      <td>4.0200</td>\n",
       "      <td>242.0</td>\n",
       "    </tr>\n",
       "    <tr>\n",
       "      <th>1</th>\n",
       "      <td>Bream</td>\n",
       "      <td>24.0</td>\n",
       "      <td>26.3</td>\n",
       "      <td>31.2</td>\n",
       "      <td>12.4800</td>\n",
       "      <td>4.3056</td>\n",
       "      <td>290.0</td>\n",
       "    </tr>\n",
       "    <tr>\n",
       "      <th>2</th>\n",
       "      <td>Bream</td>\n",
       "      <td>23.9</td>\n",
       "      <td>26.5</td>\n",
       "      <td>31.1</td>\n",
       "      <td>12.3778</td>\n",
       "      <td>4.6961</td>\n",
       "      <td>340.0</td>\n",
       "    </tr>\n",
       "    <tr>\n",
       "      <th>3</th>\n",
       "      <td>Bream</td>\n",
       "      <td>26.3</td>\n",
       "      <td>29.0</td>\n",
       "      <td>33.5</td>\n",
       "      <td>12.7300</td>\n",
       "      <td>4.4555</td>\n",
       "      <td>363.0</td>\n",
       "    </tr>\n",
       "    <tr>\n",
       "      <th>4</th>\n",
       "      <td>Bream</td>\n",
       "      <td>26.5</td>\n",
       "      <td>29.0</td>\n",
       "      <td>34.0</td>\n",
       "      <td>12.4440</td>\n",
       "      <td>5.1340</td>\n",
       "      <td>430.0</td>\n",
       "    </tr>\n",
       "    <tr>\n",
       "      <th>...</th>\n",
       "      <td>...</td>\n",
       "      <td>...</td>\n",
       "      <td>...</td>\n",
       "      <td>...</td>\n",
       "      <td>...</td>\n",
       "      <td>...</td>\n",
       "      <td>...</td>\n",
       "    </tr>\n",
       "    <tr>\n",
       "      <th>154</th>\n",
       "      <td>Smelt</td>\n",
       "      <td>11.5</td>\n",
       "      <td>12.2</td>\n",
       "      <td>13.4</td>\n",
       "      <td>2.0904</td>\n",
       "      <td>1.3936</td>\n",
       "      <td>12.2</td>\n",
       "    </tr>\n",
       "    <tr>\n",
       "      <th>155</th>\n",
       "      <td>Smelt</td>\n",
       "      <td>11.7</td>\n",
       "      <td>12.4</td>\n",
       "      <td>13.5</td>\n",
       "      <td>2.4300</td>\n",
       "      <td>1.2690</td>\n",
       "      <td>13.4</td>\n",
       "    </tr>\n",
       "    <tr>\n",
       "      <th>156</th>\n",
       "      <td>Smelt</td>\n",
       "      <td>12.1</td>\n",
       "      <td>13.0</td>\n",
       "      <td>13.8</td>\n",
       "      <td>2.2770</td>\n",
       "      <td>1.2558</td>\n",
       "      <td>12.2</td>\n",
       "    </tr>\n",
       "    <tr>\n",
       "      <th>157</th>\n",
       "      <td>Smelt</td>\n",
       "      <td>13.2</td>\n",
       "      <td>14.3</td>\n",
       "      <td>15.2</td>\n",
       "      <td>2.8728</td>\n",
       "      <td>2.0672</td>\n",
       "      <td>19.7</td>\n",
       "    </tr>\n",
       "    <tr>\n",
       "      <th>158</th>\n",
       "      <td>Smelt</td>\n",
       "      <td>13.8</td>\n",
       "      <td>15.0</td>\n",
       "      <td>16.2</td>\n",
       "      <td>2.9322</td>\n",
       "      <td>1.8792</td>\n",
       "      <td>19.9</td>\n",
       "    </tr>\n",
       "  </tbody>\n",
       "</table>\n",
       "<p>159 rows × 7 columns</p>\n",
       "</div>"
      ],
      "text/plain": [
       "    Species  Length1  Length2  Length3   Height   Width  Weight\n",
       "0     Bream     23.2     25.4     30.0  11.5200  4.0200   242.0\n",
       "1     Bream     24.0     26.3     31.2  12.4800  4.3056   290.0\n",
       "2     Bream     23.9     26.5     31.1  12.3778  4.6961   340.0\n",
       "3     Bream     26.3     29.0     33.5  12.7300  4.4555   363.0\n",
       "4     Bream     26.5     29.0     34.0  12.4440  5.1340   430.0\n",
       "..      ...      ...      ...      ...      ...     ...     ...\n",
       "154   Smelt     11.5     12.2     13.4   2.0904  1.3936    12.2\n",
       "155   Smelt     11.7     12.4     13.5   2.4300  1.2690    13.4\n",
       "156   Smelt     12.1     13.0     13.8   2.2770  1.2558    12.2\n",
       "157   Smelt     13.2     14.3     15.2   2.8728  2.0672    19.7\n",
       "158   Smelt     13.8     15.0     16.2   2.9322  1.8792    19.9\n",
       "\n",
       "[159 rows x 7 columns]"
      ]
     },
     "execution_count": 48,
     "metadata": {},
     "output_type": "execute_result"
    }
   ],
   "source": [
    "dataset=dataset[cols]\n",
    "dataset"
   ]
  },
  {
   "cell_type": "markdown",
   "id": "13bcd54b-d23e-40f9-9f24-934ae8a88331",
   "metadata": {},
   "source": [
    "## Dropping the features which can lead to multicollinearity and unstable model"
   ]
  },
  {
   "cell_type": "code",
   "execution_count": 49,
   "id": "547c5dad-e203-48cf-9897-ba38e9c399f0",
   "metadata": {
    "tags": []
   },
   "outputs": [],
   "source": [
    "# Drop Length2 and Length3 based on high correlation with Length1\n",
    "dataset = dataset.drop(columns=['Length2', 'Length3'])\n"
   ]
  },
  {
   "cell_type": "code",
   "execution_count": 50,
   "id": "291ef525-fa38-4544-ac6c-482361a22b8e",
   "metadata": {
    "tags": []
   },
   "outputs": [
    {
     "data": {
      "text/html": [
       "<div>\n",
       "<style scoped>\n",
       "    .dataframe tbody tr th:only-of-type {\n",
       "        vertical-align: middle;\n",
       "    }\n",
       "\n",
       "    .dataframe tbody tr th {\n",
       "        vertical-align: top;\n",
       "    }\n",
       "\n",
       "    .dataframe thead th {\n",
       "        text-align: right;\n",
       "    }\n",
       "</style>\n",
       "<table border=\"1\" class=\"dataframe\">\n",
       "  <thead>\n",
       "    <tr style=\"text-align: right;\">\n",
       "      <th></th>\n",
       "      <th>Species</th>\n",
       "      <th>Length1</th>\n",
       "      <th>Height</th>\n",
       "      <th>Width</th>\n",
       "      <th>Weight</th>\n",
       "    </tr>\n",
       "  </thead>\n",
       "  <tbody>\n",
       "    <tr>\n",
       "      <th>0</th>\n",
       "      <td>Bream</td>\n",
       "      <td>23.2</td>\n",
       "      <td>11.5200</td>\n",
       "      <td>4.0200</td>\n",
       "      <td>242.0</td>\n",
       "    </tr>\n",
       "    <tr>\n",
       "      <th>1</th>\n",
       "      <td>Bream</td>\n",
       "      <td>24.0</td>\n",
       "      <td>12.4800</td>\n",
       "      <td>4.3056</td>\n",
       "      <td>290.0</td>\n",
       "    </tr>\n",
       "    <tr>\n",
       "      <th>2</th>\n",
       "      <td>Bream</td>\n",
       "      <td>23.9</td>\n",
       "      <td>12.3778</td>\n",
       "      <td>4.6961</td>\n",
       "      <td>340.0</td>\n",
       "    </tr>\n",
       "    <tr>\n",
       "      <th>3</th>\n",
       "      <td>Bream</td>\n",
       "      <td>26.3</td>\n",
       "      <td>12.7300</td>\n",
       "      <td>4.4555</td>\n",
       "      <td>363.0</td>\n",
       "    </tr>\n",
       "    <tr>\n",
       "      <th>4</th>\n",
       "      <td>Bream</td>\n",
       "      <td>26.5</td>\n",
       "      <td>12.4440</td>\n",
       "      <td>5.1340</td>\n",
       "      <td>430.0</td>\n",
       "    </tr>\n",
       "    <tr>\n",
       "      <th>...</th>\n",
       "      <td>...</td>\n",
       "      <td>...</td>\n",
       "      <td>...</td>\n",
       "      <td>...</td>\n",
       "      <td>...</td>\n",
       "    </tr>\n",
       "    <tr>\n",
       "      <th>154</th>\n",
       "      <td>Smelt</td>\n",
       "      <td>11.5</td>\n",
       "      <td>2.0904</td>\n",
       "      <td>1.3936</td>\n",
       "      <td>12.2</td>\n",
       "    </tr>\n",
       "    <tr>\n",
       "      <th>155</th>\n",
       "      <td>Smelt</td>\n",
       "      <td>11.7</td>\n",
       "      <td>2.4300</td>\n",
       "      <td>1.2690</td>\n",
       "      <td>13.4</td>\n",
       "    </tr>\n",
       "    <tr>\n",
       "      <th>156</th>\n",
       "      <td>Smelt</td>\n",
       "      <td>12.1</td>\n",
       "      <td>2.2770</td>\n",
       "      <td>1.2558</td>\n",
       "      <td>12.2</td>\n",
       "    </tr>\n",
       "    <tr>\n",
       "      <th>157</th>\n",
       "      <td>Smelt</td>\n",
       "      <td>13.2</td>\n",
       "      <td>2.8728</td>\n",
       "      <td>2.0672</td>\n",
       "      <td>19.7</td>\n",
       "    </tr>\n",
       "    <tr>\n",
       "      <th>158</th>\n",
       "      <td>Smelt</td>\n",
       "      <td>13.8</td>\n",
       "      <td>2.9322</td>\n",
       "      <td>1.8792</td>\n",
       "      <td>19.9</td>\n",
       "    </tr>\n",
       "  </tbody>\n",
       "</table>\n",
       "<p>159 rows × 5 columns</p>\n",
       "</div>"
      ],
      "text/plain": [
       "    Species  Length1   Height   Width  Weight\n",
       "0     Bream     23.2  11.5200  4.0200   242.0\n",
       "1     Bream     24.0  12.4800  4.3056   290.0\n",
       "2     Bream     23.9  12.3778  4.6961   340.0\n",
       "3     Bream     26.3  12.7300  4.4555   363.0\n",
       "4     Bream     26.5  12.4440  5.1340   430.0\n",
       "..      ...      ...      ...     ...     ...\n",
       "154   Smelt     11.5   2.0904  1.3936    12.2\n",
       "155   Smelt     11.7   2.4300  1.2690    13.4\n",
       "156   Smelt     12.1   2.2770  1.2558    12.2\n",
       "157   Smelt     13.2   2.8728  2.0672    19.7\n",
       "158   Smelt     13.8   2.9322  1.8792    19.9\n",
       "\n",
       "[159 rows x 5 columns]"
      ]
     },
     "execution_count": 50,
     "metadata": {},
     "output_type": "execute_result"
    }
   ],
   "source": [
    "dataset"
   ]
  },
  {
   "cell_type": "markdown",
   "id": "a7abf84e-71e0-49e0-940d-d1f3597e06ff",
   "metadata": {},
   "source": [
    "## Separating the Independent and Dependent variables"
   ]
  },
  {
   "cell_type": "code",
   "execution_count": 51,
   "id": "a06ad225-9825-44e7-9340-1372a066ff70",
   "metadata": {
    "tags": []
   },
   "outputs": [],
   "source": [
    "X= dataset.iloc[:,:-1].values\n",
    "y = dataset.iloc[:,-1].values"
   ]
  },
  {
   "cell_type": "code",
   "execution_count": null,
   "id": "b5953caf-4d50-434a-bbc2-a8fe9c59ccbf",
   "metadata": {
    "tags": []
   },
   "outputs": [],
   "source": [
    "X"
   ]
  },
  {
   "cell_type": "code",
   "execution_count": null,
   "id": "1a1211e0-e249-4378-a96e-265eb6a401c2",
   "metadata": {
    "tags": []
   },
   "outputs": [],
   "source": [
    "y"
   ]
  },
  {
   "cell_type": "markdown",
   "id": "5744081e-be70-45c7-ae06-fba8b32ef207",
   "metadata": {},
   "source": [
    "## Since species is a categorical variable, we need to encode it"
   ]
  },
  {
   "cell_type": "markdown",
   "id": "4a32edfa-f023-48dc-9d53-63f61f638cf5",
   "metadata": {},
   "source": [
    "We will be using one hot encoding here since the number of categories is less, might not affect the dimensionality of the dataset as adversely"
   ]
  },
  {
   "cell_type": "code",
   "execution_count": 54,
   "id": "30cc5192-0776-427e-ab4b-b191a0e12dca",
   "metadata": {
    "tags": []
   },
   "outputs": [],
   "source": [
    "from sklearn.compose import ColumnTransformer\n",
    "from sklearn.preprocessing import OneHotEncoder\n",
    "import numpy as np\n",
    "\n",
    "#Column number of species is 0\n",
    "\n",
    "ct = ColumnTransformer(transformers=[('encoder', OneHotEncoder(), [0])], remainder='passthrough')\n",
    "X = np.array(ct.fit_transform(X))\n"
   ]
  },
  {
   "cell_type": "markdown",
   "id": "44ee02bb-a9fd-4d80-b170-21a2bb8216dc",
   "metadata": {},
   "source": [
    "Let's see how it looks post encoding"
   ]
  },
  {
   "cell_type": "code",
   "execution_count": 55,
   "id": "046d79fe-9785-49e1-bb46-b50393e95221",
   "metadata": {
    "tags": []
   },
   "outputs": [
    {
     "data": {
      "text/plain": [
       "array([[1.0, 0.0, 0.0, ..., 23.2, 11.52, 4.02],\n",
       "       [1.0, 0.0, 0.0, ..., 24.0, 12.48, 4.3056],\n",
       "       [1.0, 0.0, 0.0, ..., 23.9, 12.3778, 4.6961],\n",
       "       ...,\n",
       "       [0.0, 0.0, 0.0, ..., 12.1, 2.277, 1.2558],\n",
       "       [0.0, 0.0, 0.0, ..., 13.2, 2.8728, 2.0672],\n",
       "       [0.0, 0.0, 0.0, ..., 13.8, 2.9322, 1.8792]], dtype=object)"
      ]
     },
     "execution_count": 55,
     "metadata": {},
     "output_type": "execute_result"
    }
   ],
   "source": [
    "X"
   ]
  },
  {
   "cell_type": "code",
   "execution_count": 93,
   "id": "8d2dea0e-5ad1-4ebe-9f0d-11944063eacb",
   "metadata": {
    "tags": []
   },
   "outputs": [
    {
     "data": {
      "text/plain": [
       "array([1.0, 0.0, 0.0, 0.0, 0.0, 0.0, 0.0, 23.2, 11.52, 4.02], dtype=object)"
      ]
     },
     "execution_count": 93,
     "metadata": {},
     "output_type": "execute_result"
    }
   ],
   "source": [
    "X[0]"
   ]
  },
  {
   "cell_type": "markdown",
   "id": "dacc79bc-abfc-463f-9461-0e705b35b64b",
   "metadata": {},
   "source": [
    "The categorical variable has now been encoded and we can proceed with the model training"
   ]
  },
  {
   "cell_type": "markdown",
   "id": "228431b7-5e42-4068-90e4-0360f86e691a",
   "metadata": {},
   "source": [
    "## Polynomial Linear Regression Model Training"
   ]
  },
  {
   "cell_type": "markdown",
   "id": "24a13504-9a9f-455d-814b-0d1aff1b302d",
   "metadata": {},
   "source": [
    "Before training the model we need transform the feature of matrix to fit the model equation below"
   ]
  },
  {
   "cell_type": "markdown",
   "id": "fbe7036b-7c40-4985-ae5d-78bc2f155ca8",
   "metadata": {},
   "source": [
    "$$ y = \\beta_0 + \\beta_1 X + \\beta_2 X^2 + \\beta_3 X^3 + \\cdots + \\beta_n X^n $$"
   ]
  },
  {
   "cell_type": "code",
   "execution_count": 85,
   "id": "8d733e57-2ff0-41d7-8a1d-aa1dce5b2361",
   "metadata": {
    "tags": []
   },
   "outputs": [],
   "source": [
    "from sklearn.preprocessing import PolynomialFeatures\n",
    "poly_reg = PolynomialFeatures(degree = 2)\n",
    "X_poly = poly_reg.fit_transform(X)\n"
   ]
  },
  {
   "cell_type": "markdown",
   "id": "43ddb89d-8dfd-4ddc-a91d-be378d6a7b5e",
   "metadata": {},
   "source": [
    "## Splitting into training and test data"
   ]
  },
  {
   "cell_type": "code",
   "execution_count": 86,
   "id": "8956e94e-f4cc-4606-843d-c10e5f3ea55c",
   "metadata": {
    "tags": []
   },
   "outputs": [],
   "source": [
    "from sklearn.model_selection import train_test_split\t\n",
    "X_train, X_test, y_train, y_test = train_test_split(X_poly,y, test_size=0.2, random_state = 42)\t\t\t\t\t\t\t"
   ]
  },
  {
   "cell_type": "markdown",
   "id": "4fa554ec-3afa-4b55-b52c-e1d464ca7c35",
   "metadata": {},
   "source": [
    "Actual Training"
   ]
  },
  {
   "cell_type": "code",
   "execution_count": 87,
   "id": "c99b7771-7e74-4876-a53d-186b0bdf0dc7",
   "metadata": {
    "tags": []
   },
   "outputs": [
    {
     "data": {
      "text/html": [
       "<style>#sk-container-id-7 {color: black;}#sk-container-id-7 pre{padding: 0;}#sk-container-id-7 div.sk-toggleable {background-color: white;}#sk-container-id-7 label.sk-toggleable__label {cursor: pointer;display: block;width: 100%;margin-bottom: 0;padding: 0.3em;box-sizing: border-box;text-align: center;}#sk-container-id-7 label.sk-toggleable__label-arrow:before {content: \"▸\";float: left;margin-right: 0.25em;color: #696969;}#sk-container-id-7 label.sk-toggleable__label-arrow:hover:before {color: black;}#sk-container-id-7 div.sk-estimator:hover label.sk-toggleable__label-arrow:before {color: black;}#sk-container-id-7 div.sk-toggleable__content {max-height: 0;max-width: 0;overflow: hidden;text-align: left;background-color: #f0f8ff;}#sk-container-id-7 div.sk-toggleable__content pre {margin: 0.2em;color: black;border-radius: 0.25em;background-color: #f0f8ff;}#sk-container-id-7 input.sk-toggleable__control:checked~div.sk-toggleable__content {max-height: 200px;max-width: 100%;overflow: auto;}#sk-container-id-7 input.sk-toggleable__control:checked~label.sk-toggleable__label-arrow:before {content: \"▾\";}#sk-container-id-7 div.sk-estimator input.sk-toggleable__control:checked~label.sk-toggleable__label {background-color: #d4ebff;}#sk-container-id-7 div.sk-label input.sk-toggleable__control:checked~label.sk-toggleable__label {background-color: #d4ebff;}#sk-container-id-7 input.sk-hidden--visually {border: 0;clip: rect(1px 1px 1px 1px);clip: rect(1px, 1px, 1px, 1px);height: 1px;margin: -1px;overflow: hidden;padding: 0;position: absolute;width: 1px;}#sk-container-id-7 div.sk-estimator {font-family: monospace;background-color: #f0f8ff;border: 1px dotted black;border-radius: 0.25em;box-sizing: border-box;margin-bottom: 0.5em;}#sk-container-id-7 div.sk-estimator:hover {background-color: #d4ebff;}#sk-container-id-7 div.sk-parallel-item::after {content: \"\";width: 100%;border-bottom: 1px solid gray;flex-grow: 1;}#sk-container-id-7 div.sk-label:hover label.sk-toggleable__label {background-color: #d4ebff;}#sk-container-id-7 div.sk-serial::before {content: \"\";position: absolute;border-left: 1px solid gray;box-sizing: border-box;top: 0;bottom: 0;left: 50%;z-index: 0;}#sk-container-id-7 div.sk-serial {display: flex;flex-direction: column;align-items: center;background-color: white;padding-right: 0.2em;padding-left: 0.2em;position: relative;}#sk-container-id-7 div.sk-item {position: relative;z-index: 1;}#sk-container-id-7 div.sk-parallel {display: flex;align-items: stretch;justify-content: center;background-color: white;position: relative;}#sk-container-id-7 div.sk-item::before, #sk-container-id-7 div.sk-parallel-item::before {content: \"\";position: absolute;border-left: 1px solid gray;box-sizing: border-box;top: 0;bottom: 0;left: 50%;z-index: -1;}#sk-container-id-7 div.sk-parallel-item {display: flex;flex-direction: column;z-index: 1;position: relative;background-color: white;}#sk-container-id-7 div.sk-parallel-item:first-child::after {align-self: flex-end;width: 50%;}#sk-container-id-7 div.sk-parallel-item:last-child::after {align-self: flex-start;width: 50%;}#sk-container-id-7 div.sk-parallel-item:only-child::after {width: 0;}#sk-container-id-7 div.sk-dashed-wrapped {border: 1px dashed gray;margin: 0 0.4em 0.5em 0.4em;box-sizing: border-box;padding-bottom: 0.4em;background-color: white;}#sk-container-id-7 div.sk-label label {font-family: monospace;font-weight: bold;display: inline-block;line-height: 1.2em;}#sk-container-id-7 div.sk-label-container {text-align: center;}#sk-container-id-7 div.sk-container {/* jupyter's `normalize.less` sets `[hidden] { display: none; }` but bootstrap.min.css set `[hidden] { display: none !important; }` so we also need the `!important` here to be able to override the default hidden behavior on the sphinx rendered scikit-learn.org. See: https://github.com/scikit-learn/scikit-learn/issues/21755 */display: inline-block !important;position: relative;}#sk-container-id-7 div.sk-text-repr-fallback {display: none;}</style><div id=\"sk-container-id-7\" class=\"sk-top-container\"><div class=\"sk-text-repr-fallback\"><pre>LinearRegression()</pre><b>In a Jupyter environment, please rerun this cell to show the HTML representation or trust the notebook. <br />On GitHub, the HTML representation is unable to render, please try loading this page with nbviewer.org.</b></div><div class=\"sk-container\" hidden><div class=\"sk-item\"><div class=\"sk-estimator sk-toggleable\"><input class=\"sk-toggleable__control sk-hidden--visually\" id=\"sk-estimator-id-7\" type=\"checkbox\" checked><label for=\"sk-estimator-id-7\" class=\"sk-toggleable__label sk-toggleable__label-arrow\">LinearRegression</label><div class=\"sk-toggleable__content\"><pre>LinearRegression()</pre></div></div></div></div></div>"
      ],
      "text/plain": [
       "LinearRegression()"
      ]
     },
     "execution_count": 87,
     "metadata": {},
     "output_type": "execute_result"
    }
   ],
   "source": [
    "from sklearn.linear_model import LinearRegression\n",
    "regressor = LinearRegression()\n",
    "regressor.fit(X_train, y_train)\n"
   ]
  },
  {
   "cell_type": "markdown",
   "id": "9578d6a9-bc06-4e6e-a7ff-37237b49dddc",
   "metadata": {},
   "source": [
    "## Model Evaluation metrics"
   ]
  },
  {
   "cell_type": "code",
   "execution_count": 89,
   "id": "7d188038-493a-474a-b67d-3fd75ee695f2",
   "metadata": {
    "tags": []
   },
   "outputs": [
    {
     "name": "stdout",
     "output_type": "stream",
     "text": [
      "Training Set Performance:\n",
      "MSE: 1643.5129\n",
      "RMSE: 40.5403\n",
      "MAE: 26.5383\n",
      "R²: 0.9866\n",
      "\n",
      "Test Set Performance:\n",
      "MSE: 3614.8770\n",
      "RMSE: 60.1238\n",
      "MAE: 38.8301\n",
      "R²: 0.9746\n"
     ]
    },
    {
     "data": {
      "image/png": "[encoded data removed]",
      "text/plain": [
       "<Figure size 1200x600 with 2 Axes>"
      ]
     },
     "metadata": {},
     "output_type": "display_data"
    }
   ],
   "source": [
    "import numpy as np\n",
    "from sklearn.metrics import mean_squared_error, mean_absolute_error, r2_score\n",
    "import matplotlib.pyplot as plt\n",
    "\n",
    "y_train_pred = regressor.predict(X_train)\n",
    "y_test_pred = regressor.predict(X_test)\n",
    "\n",
    "mse_train = mean_squared_error(y_train, y_train_pred)\n",
    "rmse_train = np.sqrt(mse_train)  # RMSE is the square root of MSE\n",
    "mae_train = mean_absolute_error(y_train, y_train_pred)\n",
    "r2_train = r2_score(y_train, y_train_pred)\n",
    "\n",
    "# Calculate metrics for the test set\n",
    "mse_test = mean_squared_error(y_test, y_test_pred)\n",
    "rmse_test = np.sqrt(mse_test)\n",
    "mae_test = mean_absolute_error(y_test, y_test_pred)\n",
    "r2_test = r2_score(y_test, y_test_pred)\n",
    "\n",
    "# Print the metrics\n",
    "print(f\"Training Set Performance:\")\n",
    "print(f\"MSE: {mse_train:.4f}\")\n",
    "print(f\"RMSE: {rmse_train:.4f}\")\n",
    "print(f\"MAE: {mae_train:.4f}\")\n",
    "print(f\"R²: {r2_train:.4f}\")\n",
    "\n",
    "print(f\"\\nTest Set Performance:\")\n",
    "print(f\"MSE: {mse_test:.4f}\")\n",
    "print(f\"RMSE: {rmse_test:.4f}\")\n",
    "print(f\"MAE: {mae_test:.4f}\")\n",
    "print(f\"R²: {r2_test:.4f}\")\n",
    "\n",
    "\n",
    "residuals_train = y_train - y_train_pred\n",
    "residuals_test = y_test - y_test_pred\n",
    "\n",
    "# Plot residuals for training set\n",
    "plt.figure(figsize=(12, 6))\n",
    "plt.subplot(1, 2, 1)\n",
    "plt.scatter(y_train_pred, residuals_train, alpha=0.5)\n",
    "plt.hlines(y=0, xmin=y_train_pred.min(), xmax=y_train_pred.max(), colors='red')\n",
    "plt.title('Residuals vs Predicted Values (Training Set)')\n",
    "plt.xlabel('Predicted Values')\n",
    "plt.ylabel('Residuals')\n",
    "\n",
    "# Plot residuals for test set\n",
    "plt.subplot(1, 2, 2)\n",
    "plt.scatter(y_test_pred, residuals_test, alpha=0.5)\n",
    "plt.hlines(y=0, xmin=y_test_pred.min(), xmax=y_test_pred.max(), colors='red')\n",
    "plt.title('Residuals vs Predicted Values (Test Set)')\n",
    "plt.xlabel('Predicted Values')\n",
    "plt.ylabel('Residuals')\n",
    "\n",
    "plt.show()\n"
   ]
  },
  {
   "cell_type": "markdown",
   "id": "6ca33fc1-3763-4444-bee3-b14036dd3441",
   "metadata": {
    "tags": []
   },
   "source": [
    "P.S.: Due to the small size of dataset this is the maximum R2 score achieved and there is significant amount of MAE RMSE, fine tuning can help more, with techniques like Ridge Regularization if there's still multicollinearity present."
   ]
  },
  {
   "cell_type": "code",
   "execution_count": 90,
   "id": "204e4d4c-e433-4b36-b512-3c89fa9ae6f4",
   "metadata": {
    "tags": []
   },
   "outputs": [
    {
     "data": {
      "text/plain": [
       "array([[ 1.        ,  0.        ,  0.        , ..., 27.03168064,\n",
       "        16.23918128,  9.75562756],\n",
       "       [ 1.        ,  0.        ,  0.        , ...,  5.9049    ,\n",
       "         3.08367   ,  1.610361  ],\n",
       "       [ 1.        ,  0.        ,  0.        , ..., 31.002624  ,\n",
       "        18.7953408 , 11.39467536],\n",
       "       ...,\n",
       "       [ 1.        ,  0.        ,  0.        , ...,  4.90135321,\n",
       "         2.58118601,  1.35932281],\n",
       "       [ 1.        ,  0.        ,  0.        , ..., 46.580625  ,\n",
       "        30.432675  , 19.882681  ],\n",
       "       [ 1.        ,  0.        ,  0.        , ..., 21.049744  ,\n",
       "        13.495602  ,  8.65242225]])"
      ]
     },
     "execution_count": 90,
     "metadata": {},
     "output_type": "execute_result"
    }
   ],
   "source": [
    "X_test"
   ]
  },
  {
   "cell_type": "code",
   "execution_count": 91,
   "id": "d76b15da-e122-433e-86dc-d3eae693438e",
   "metadata": {
    "tags": []
   },
   "outputs": [
    {
     "data": {
      "text/plain": [
       "array([  1.        ,   0.        ,   0.        ,   1.        ,\n",
       "         0.        ,   0.        ,   0.        ,   0.        ,\n",
       "        16.8       ,   5.1992    ,   3.1234    ,   0.        ,\n",
       "         0.        ,   0.        ,   0.        ,   0.        ,\n",
       "         0.        ,   0.        ,   0.        ,   0.        ,\n",
       "         0.        ,   0.        ,   0.        ,   0.        ,\n",
       "         0.        ,   0.        ,   0.        ,   0.        ,\n",
       "         0.        ,   0.        ,   1.        ,   0.        ,\n",
       "         0.        ,   0.        ,   0.        ,  16.8       ,\n",
       "         5.1992    ,   3.1234    ,   0.        ,   0.        ,\n",
       "         0.        ,   0.        ,   0.        ,   0.        ,\n",
       "         0.        ,   0.        ,   0.        ,   0.        ,\n",
       "         0.        ,   0.        ,   0.        ,   0.        ,\n",
       "         0.        ,   0.        ,   0.        ,   0.        ,\n",
       "         0.        ,   0.        ,   0.        ,   0.        ,\n",
       "       282.24      ,  87.34656   ,  52.47312   ,  27.03168064,\n",
       "        16.23918128,   9.75562756])"
      ]
     },
     "execution_count": 91,
     "metadata": {},
     "output_type": "execute_result"
    }
   ],
   "source": [
    "X_test[0]"
   ]
  },
  {
   "cell_type": "markdown",
   "id": "20ce981b-a825-400b-8359-c1eb0ec0ddad",
   "metadata": {},
   "source": [
    "## Making a custom prediction"
   ]
  },
  {
   "cell_type": "code",
   "execution_count": 108,
   "id": "895c93cc-29a8-4148-a39d-e83d2299d878",
   "metadata": {
    "tags": []
   },
   "outputs": [
    {
     "name": "stdin",
     "output_type": "stream",
     "text": [
      "Enter the species (Bream, Roach, Whitefish, Parkki, Perch, Pike, Smelt):  Bream\n",
      "Enter Length1:  23.2\n",
      "Enter Height:  11.52\n",
      "Enter Width:  4.02\n"
     ]
    }
   ],
   "source": [
    "# Define species list in the order they appear in the dataset\n",
    "species_list = ['Bream', 'Roach', 'Whitefish', 'Parkki', 'Perch', 'Pike', 'Smelt']\n",
    "\n",
    "def get_user_input():\n",
    "    species = input(\"Enter the species (Bream, Roach, Whitefish, Parkki, Perch, Pike, Smelt): \")\n",
    "    \n",
    "    if species not in species_list:\n",
    "        print(\"Invalid species entered. Please enter a valid species.\")\n",
    "        return None\n",
    "    \n",
    "    try:\n",
    "        length1 = float(input(\"Enter Length1: \"))\n",
    "        height = float(input(\"Enter Height: \"))\n",
    "        width = float(input(\"Enter Width: \"))\n",
    "    except ValueError:\n",
    "        print(\"Invalid input for numeric values. Please enter valid numbers.\")\n",
    "        return None\n",
    "    \n",
    "    # One-hot encode species\n",
    "    species_encoded = [1 if species == s else 0 for s in species_list]\n",
    "    \n",
    "    feature_vector = species_encoded + [length1, height, width]\n",
    "    \n",
    "    return feature_vector\n",
    "\n",
    "X_user = get_user_input()\n",
    "\n"
   ]
  },
  {
   "cell_type": "code",
   "execution_count": 109,
   "id": "6baa329a-d3c5-4757-91cf-322149d65d7b",
   "metadata": {
    "tags": []
   },
   "outputs": [
    {
     "data": {
      "text/plain": [
       "[1, 0, 0, 0, 0, 0, 0, 23.2, 11.52, 4.02]"
      ]
     },
     "execution_count": 109,
     "metadata": {},
     "output_type": "execute_result"
    }
   ],
   "source": [
    "X_user"
   ]
  },
  {
   "cell_type": "code",
   "execution_count": 110,
   "id": "3c56e9d2-e77e-4314-862f-eb5276a9ac84",
   "metadata": {
    "tags": []
   },
   "outputs": [],
   "source": [
    "from sklearn.preprocessing import PolynomialFeatures\n",
    "poly_reg = PolynomialFeatures(degree = 2)\n",
    "X_poly_user = poly_reg.fit_transform([X_user])\n"
   ]
  },
  {
   "cell_type": "code",
   "execution_count": 111,
   "id": "55a23bec-3f7a-4716-a5e2-2321c49bf99b",
   "metadata": {
    "tags": []
   },
   "outputs": [
    {
     "data": {
      "text/plain": [
       "array([270.54736328])"
      ]
     },
     "execution_count": 111,
     "metadata": {},
     "output_type": "execute_result"
    }
   ],
   "source": [
    "regressor.predict(X_poly_user)"
   ]
  }
 ],
 "metadata": {
  "kernelspec": {
   "display_name": "Python 3 (ipykernel)",
   "language": "python",
   "name": "python3"
  },
  "language_info": {
   "codemirror_mode": {
    "name": "ipython",
    "version": 3
   },
   "file_extension": ".py",
   "mimetype": "text/x-python",
   "name": "python",
   "nbconvert_exporter": "python",
   "pygments_lexer": "ipython3",
   "version": "3.8.10"
  }
 },
 "nbformat": 4,
 "nbformat_minor": 5
}
